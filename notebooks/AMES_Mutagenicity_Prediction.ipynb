{
 "cells": [
  {
   "cell_type": "markdown",
   "id": "e20e4764",
   "metadata": {},
   "source": [
    "# 🧬 AMES Mutagenicity Prediction"
   ]
  },
  {
   "cell_type": "markdown",
   "id": "2eacb53b",
   "metadata": {},
   "source": [
    "## 📖 Dataset Description\n",
    "Mutagenicity refers to the ability of a drug to induce genetic alterations. Drugs that damage DNA may lead to cell death or other severe adverse effects.\n",
    "\n",
    "The **AMES test**, developed by Professor Bruce Ames, is a widely used biological assay to assess mutagenicity. It is a short-term bacterial reverse mutation assay that detects many compounds that can cause genetic damage or frameshift mutations.\n",
    "\n",
    "The **AMES dataset** used here is aggregated from four scientific studies.\n",
    "\n",
    "- **Task Type**: Binary classification  \n",
    "- **Input**: SMILES string of a drug molecule  \n",
    "- **Output**: `1` (mutagenic) or `0` (not mutagenic)  \n",
    "- **Size**: 7,255 compounds\n",
    "\n",
    "## 📚 References\n",
    "Xu, Congying, et al. “In silico prediction of chemical Ames mutagenicity.” Journal of chemical information and modeling 52.11 (2012): 2840-2847.\n",
    "\n",
    "**License**: CC BY 4.0"
   ]
  },
  {
   "cell_type": "markdown",
   "id": "a6641842",
   "metadata": {},
   "source": [
    "## 📦 Imports"
   ]
  },
  {
   "cell_type": "code",
   "execution_count": 1,
   "id": "286a7daf",
   "metadata": {},
   "outputs": [],
   "source": [
    "import os\n",
    "import sys\n",
    "\n",
    "sys.path.append(os.path.abspath(\"..\"))\n",
    "\n",
    "import pandas as pd\n",
    "from scripts.tdc_dataset_download import TDCDatasetDownloader\n",
    "from scripts.eda_utils import DatasetLoader, EDAVisualizer, SMARTSPatternAnalyzer\n",
    "from scripts.featurise import MolecularFeaturiser\n"
   ]
  },
  {
   "cell_type": "markdown",
   "id": "774229df",
   "metadata": {},
   "source": [
    "______"
   ]
  },
  {
   "cell_type": "markdown",
   "id": "f031ecf4",
   "metadata": {},
   "source": [
    "## 📥 Download AMES Dataset"
   ]
  },
  {
   "cell_type": "code",
   "execution_count": 2,
   "id": "baef2150",
   "metadata": {},
   "outputs": [],
   "source": [
    "######################################## Declare category and dataset ######################################## \n",
    "\n",
    "category = 'tox'\n",
    "dataset = 'AMES'"
   ]
  },
  {
   "cell_type": "code",
   "execution_count": null,
   "id": "6aea6a48",
   "metadata": {},
   "outputs": [],
   "source": [
    "######################################## Initiate downloader class to download the dataset ######################################## \n",
    "\n",
    "downloader = TDCDatasetDownloader(category, dataset)"
   ]
  },
  {
   "cell_type": "markdown",
   "id": "c3ed3530",
   "metadata": {},
   "source": [
    "________"
   ]
  },
  {
   "cell_type": "markdown",
   "id": "fee396e3",
   "metadata": {},
   "source": [
    "## 📊 Exploratory Data Analysis\n",
    "\n",
    "In this section, we analyze the AMES mutagenicity dataset to better understand its structure, balance, and molecular content. Exploratory Data Analysis (EDA) helps us uncover patterns, detect anomalies, and gain insights that will guide our preprocessing and modeling steps."
   ]
  },
  {
   "cell_type": "markdown",
   "id": "45403e06",
   "metadata": {},
   "source": [
    "### 1. Load Datasets ###"
   ]
  },
  {
   "cell_type": "code",
   "execution_count": null,
   "id": "b8f474bc",
   "metadata": {},
   "outputs": [],
   "source": [
    "######################################## Initialize the dataset loader ######################################## \n",
    "loader = DatasetLoader(dataset_name=dataset)"
   ]
  },
  {
   "cell_type": "code",
   "execution_count": null,
   "id": "3725fb80",
   "metadata": {},
   "outputs": [],
   "source": [
    "######################################## Load datasets ######################################## \n",
    "main_df, train_df, valid_df, test_df = loader.load_all()"
   ]
  },
  {
   "cell_type": "markdown",
   "id": "5df31ffc",
   "metadata": {},
   "source": [
    "______"
   ]
  },
  {
   "cell_type": "markdown",
   "id": "e79311e0",
   "metadata": {},
   "source": [
    "### 2. 📦 Dataset Overview ###\n",
    "\n",
    "Before diving into the analysis, it’s essential to understand the structure of the datasets we’re working with — including the main dataset and the train/validation/test splits.\n",
    "\n",
    "The function `EDAVisualizer.show_dataset_info()` provides a concise summary of:\n",
    "- Shape (rows × columns)\n",
    "- Column names\n",
    "- Missing values\n",
    "- Sample preview (via `.head()`)\n",
    "\n",
    "You can run this by:\n",
    "```python\n",
    "EDAVisualizer.show_dataset_info(loader)\n",
    "\n",
    "```\n",
    "Alternatively, for specific splits only e.g for just Train and Test Data:\n",
    "```python\n",
    "selected_datasets = ['train','test']\n",
    "EDAVisualizer.show_dataset_info(loader, dataset_names=selected_datasets)\n",
    "\n"
   ]
  },
  {
   "cell_type": "code",
   "execution_count": null,
   "id": "a1f92a9e",
   "metadata": {},
   "outputs": [],
   "source": [
    "######################################## Show Dataset Info  ########################################\n",
    "\n",
    "EDAVisualizer.show_dataset_info(loader)"
   ]
  },
  {
   "cell_type": "markdown",
   "id": "e0f96db9",
   "metadata": {},
   "source": [
    "-----"
   ]
  },
  {
   "cell_type": "markdown",
   "id": "3a3fb6b7",
   "metadata": {},
   "source": [
    "### 3. 💎 Unique SMILES Analysis ###\n",
    "\n",
    "Knowing how many unique compounds exist in each dataset helps:\n",
    "- Measure diversity\n",
    "- Avoid duplication bias\n",
    "- Confirm splits are stratified\n",
    "\n",
    "Run:\n",
    "```python\n",
    "EDAVisualizer.compare_unique_smiles(\n",
    "    dfs=[train_df, valid_df, test_df],\n",
    "    df_names=['Train', 'Valid', 'Test'],\n",
    "    smiles_col='Drug'  \n",
    ")\n"
   ]
  },
  {
   "cell_type": "code",
   "execution_count": null,
   "id": "931ddddd",
   "metadata": {},
   "outputs": [],
   "source": [
    "######################################## Check Unique  Drug  Count in each dataset  ########################################\n",
    "print(f\"Number of Unique drug count in {dataset} train data is: =====>> {train_df[\"Drug\"].nunique()}\\n\")\n",
    "print(f\"Number of Unique drug count in {dataset} validation data is: =====>> {valid_df[\"Drug\"].nunique()}\\n\")\n",
    "print(f\"Number of Unique drug count in {dataset} test data is: =====>> {test_df[\"Drug\"].nunique()}\\n\")\n",
    "print(f\"Total number of Unique drug count in {dataset} data is: =====>> {main_df[\"Drug\"].nunique()}\\n\")"
   ]
  },
  {
   "cell_type": "code",
   "execution_count": null,
   "id": "74d14ead",
   "metadata": {},
   "outputs": [],
   "source": [
    "######################################## Compare Unique  Drug  Count Distribution  ########################################\n",
    "EDAVisualizer.compare_unique_smiles(\n",
    "    dfs=[train_df, valid_df, test_df],\n",
    "    df_names=['Train', 'Valid', 'Test'],\n",
    "    smiles_col='Drug'  \n",
    ")"
   ]
  },
  {
   "cell_type": "markdown",
   "id": "3cf9fd16",
   "metadata": {},
   "source": [
    "_____"
   ]
  },
  {
   "cell_type": "markdown",
   "id": "bb9fc17b",
   "metadata": {},
   "source": [
    "### 4. 🧮  Target Class Distribution in dataset ###\n",
    "\n",
    "Class imbalance is a common challenge in classification tasks. Plotting the distribution of the target labels helps us understand:\n",
    "- Whether the dataset is balanced\n",
    "- The dominant class (if any)\n",
    "- The need for resampling or weighted loss functions\n",
    "\n",
    "We use:\n",
    "```python\n",
    "EDAVisualizer.plot_label_distribution(df)\n"
   ]
  },
  {
   "cell_type": "code",
   "execution_count": null,
   "id": "a299299b",
   "metadata": {},
   "outputs": [],
   "source": [
    "########################################  Plot class distribution on Main Dataset ######################################## \n",
    "EDAVisualizer.plot_label_distribution(main_df, target_col='Y', title='Main - Target Mutagenicity Distribution')"
   ]
  },
  {
   "cell_type": "code",
   "execution_count": null,
   "id": "096a2bf5",
   "metadata": {},
   "outputs": [],
   "source": [
    "########################################  Plot class distribution Comparison between Split Dataset ######################################## \n",
    "EDAVisualizer.compare_label_distributions(\n",
    "    dfs=[train_df, valid_df, test_df], \n",
    "    df_names=['Train', 'Valid', 'Test'], \n",
    "    target_col='Y'\n",
    ")"
   ]
  },
  {
   "cell_type": "markdown",
   "id": "44790a2b",
   "metadata": {},
   "source": [
    "______"
   ]
  },
  {
   "cell_type": "markdown",
   "id": "42742f03",
   "metadata": {},
   "source": [
    "### 5. 📏 SMILES Length Analysis ###\n",
    "\n",
    "SMILES strings vary in length depending on the molecular complexity. Analyzing their length:\n",
    "- Highlights outliers or unusually long/short molecules\n",
    "- Informs sequence-based model designs (like RNNs, Transformers)\n",
    "\n",
    "To analyze the distribution:\n",
    "```python\n",
    "EDAVisualizer.check_smiles_length(loader=loader)\n"
   ]
  },
  {
   "cell_type": "code",
   "execution_count": null,
   "id": "55f39e81",
   "metadata": {},
   "outputs": [],
   "source": [
    "########################################  Check the SMILES Length Distribution of the Full Dataset ######################################## \n",
    "EDAVisualizer.check_smiles_length(loader=loader)"
   ]
  },
  {
   "cell_type": "code",
   "execution_count": null,
   "id": "8726d5f0",
   "metadata": {},
   "outputs": [],
   "source": [
    "########################################  Alternatively, Check the SMILES Length Distribution of the Selected/Multiple Dataset Splits ######################################## \n",
    "EDAVisualizer.check_smiles_length(dfs=[test_df], names=[\"Test\"])\n"
   ]
  },
  {
   "cell_type": "code",
   "execution_count": null,
   "id": "cf5d9b9a",
   "metadata": {},
   "outputs": [],
   "source": [
    "########################################  Compare the SMILES Length Distribution between Split Dataset ######################################## \n",
    "\n",
    "EDAVisualizer.compare_smiles_length(loader=loader)"
   ]
  },
  {
   "cell_type": "code",
   "execution_count": null,
   "id": "44ea5a10",
   "metadata": {},
   "outputs": [],
   "source": [
    "######################################## Alternatively, we can compare selected splits dataset by executing below ######################################## \n",
    "\n",
    "selected_dfs = [train_df, valid_df]\n",
    "dataset_names=['Train', 'Validation']\n",
    "\n",
    "\n",
    "EDAVisualizer.compare_smiles_length(selected_dfs, dataset_names)"
   ]
  },
  {
   "cell_type": "markdown",
   "id": "56277032",
   "metadata": {},
   "source": [
    "_____________"
   ]
  },
  {
   "cell_type": "markdown",
   "id": "f9aed2b1",
   "metadata": {},
   "source": [
    "### 5. ✔️ RDKit Molecular Validity Check ###\n",
    "\n",
    "Not all SMILES strings are guaranteed to represent valid molecules. Some may contain syntax errors or rare patterns RDKit cannot parse.\n",
    "\n",
    "This function evaluates validity by attempting to convert each SMILES to an RDKit Mol object:\n",
    "```python\n",
    "EDAVisualizer.check_molecular_validity(loader=loader)\n",
    "\n",
    "\n",
    "You can also pass a different column name if your SMILES column isn’t named Drug e.g:\n",
    "\n",
    "EDAVisualizer.check_molecular_validity(train_df, smiles_col='SMILES')"
   ]
  },
  {
   "cell_type": "code",
   "execution_count": null,
   "id": "92b75e6e",
   "metadata": {},
   "outputs": [],
   "source": [
    "######################################## Check Drug Molecular Validity ######################################## \n",
    "\n",
    "EDAVisualizer.check_molecular_validity(loader=loader)"
   ]
  },
  {
   "cell_type": "markdown",
   "id": "4969c25e",
   "metadata": {},
   "source": [
    "____________"
   ]
  },
  {
   "cell_type": "markdown",
   "id": "4bca3a24",
   "metadata": {},
   "source": [
    "### 6. 🧬 Molecular Descriptor Engineering ###\n",
    "Use RDKit to calculate standard drug-likeness properties for molecules — a key step in both Exploratory Data Analysis (EDA) and featurization.\n",
    "\n",
    "This function computes key cheminformatics descriptors from SMILES using RDKit:\n",
    "- Molecular weight (MW)\n",
    "- LogP (lipophilicity)\n",
    "- Topological Polar Surface Area (TPSA)\n",
    "- Hydrogen Bond Donors/Acceptors (HBD/HBA)\n",
    "- Rotatable bonds\n",
    "- Ring counts (total and aromatic)\n",
    "\n",
    "These descriptors provide chemical insights into your dataset during EDA (e.g., distribution of molecular weights) and also serve as informative features for downstream machine learning models.\n",
    "\n",
    "You can add descriptors to a dataset via:\n",
    "```python\n",
    "EDAVisualizer.add_molecular_descriptors(loader=loader)\n",
    "\n",
    "```\n",
    "You can also:\n",
    "\n",
    "🔹 Apply to Specific DataFrames:\n",
    "\n",
    "```python\n",
    "EDAVisualizer.add_molecular_descriptors(dfs=[train_df, test_df], names=[\"Train\", \"Test\"])\n",
    "```\n",
    "\n",
    "🔹 Apply to a single DataFrame:\n",
    "\n",
    "```python\n",
    "EDAVisualizer.add_molecular_descriptors(dfs=valid_df, names=[\"Validation\"])\n",
    "```\n",
    "\n",
    "🔹 Return new DataFrames:\n",
    "\n",
    "```python\n",
    "updated = EDAVisualizer.add_molecular_descriptors(dfs=[train_df], inplace=False)"
   ]
  },
  {
   "cell_type": "code",
   "execution_count": null,
   "id": "8799e4eb",
   "metadata": {},
   "outputs": [],
   "source": [
    "######################################## Add Molecular Descriptors ######################################## \n",
    "EDAVisualizer.add_molecular_descriptors(loader=loader)\n"
   ]
  },
  {
   "cell_type": "markdown",
   "id": "2c64f725",
   "metadata": {},
   "source": [
    "_____"
   ]
  },
  {
   "cell_type": "markdown",
   "id": "d34d1b2f",
   "metadata": {},
   "source": [
    "### 7. ✨ SMARTS Pattern Matching ###\n",
    "\n",
    "SMARTS patterns represent functional groups (e.g., nitro groups, amines, halogens). This module detects presence of such substructures and summarizes their occurrence by class.\n",
    "\n",
    "**Steps**:\n",
    "1. Use `SMARTSPatternAnalyzer().analyze(df)` to add SMARTS flags.\n",
    "2. Use `.summarize_patterns(df)` to compare frequency by label.\n",
    "\n",
    "Example:\n",
    "```python\n",
    "smarts_analyzer = SMARTSPatternAnalyzer()\n",
    "train_df = smarts_analyzer.analyze(train_df)\n",
    "smarts_analyzer.summarize_patterns(train_df)\n"
   ]
  },
  {
   "cell_type": "code",
   "execution_count": null,
   "id": "dc2b4434",
   "metadata": {},
   "outputs": [],
   "source": [
    "######################################## Initialize SMARTS Pattern Analyzer ######################################## \n",
    "analyzer = SMARTSPatternAnalyzer()"
   ]
  },
  {
   "cell_type": "code",
   "execution_count": null,
   "id": "0d2cbc9f",
   "metadata": {},
   "outputs": [],
   "source": [
    "######################################## Detect SMARTS Substructures in Main Dataset ######################################## \n",
    "\n",
    "data_with_flags = analyzer.analyze(main_df)"
   ]
  },
  {
   "cell_type": "code",
   "execution_count": null,
   "id": "14f48064",
   "metadata": {},
   "outputs": [],
   "source": [
    "########################################  Analyze SMARTS Substructures ######################################## \n",
    "\n",
    "analyzer.summarize_patterns(data_with_flags)"
   ]
  },
  {
   "cell_type": "markdown",
   "id": "f9e24311",
   "metadata": {},
   "source": [
    "__________"
   ]
  },
  {
   "cell_type": "markdown",
   "id": "d0cf8d79",
   "metadata": {},
   "source": [
    "### 8. 📈 Visualize correlation between features  ###"
   ]
  },
  {
   "cell_type": "markdown",
   "id": "14ae31f7",
   "metadata": {},
   "source": [
    "### Feature Correlation Heatmaps\n",
    "\n",
    "Correlation matrices help identify:\n",
    "- Redundant features\n",
    "- Feature interactions\n",
    "- Potential for multicollinearity\n",
    "\n",
    "We visualize correlations for numeric descriptors:\n",
    "```python\n",
    "EDAVisualizer.compare_correlation_heatmaps(\n",
    "    [main_df],\n",
    "    [\"Data\"],\n",
    "    cols=['MW', 'LogP', 'TPSA', 'HBD', 'HBA', 'RotBonds', 'RingCount', 'AromaticRings', 'Y']\n",
    ")\n",
    "```\n",
    "\n",
    "You can also visualize for multiple dataset by:\n",
    "```python\n",
    "EDAVisualizer.compare_correlation_heatmaps(\n",
    "    dfs=[train_df, valid_df, test_df],\n",
    "    df_names=[\"Train\", \"Validation\", \"Test\"],\n",
    "    cols=['MW', 'LogP', 'TPSA', 'HBD', 'HBA', 'RotBonds', 'RingCount', 'AromaticRings']\n",
    ")\n"
   ]
  },
  {
   "cell_type": "code",
   "execution_count": null,
   "id": "f39e17dc",
   "metadata": {},
   "outputs": [],
   "source": [
    "######################################## Show Correlation Heatmaps for Molecular Descriptors ######################################## \n",
    "\n",
    "EDAVisualizer.compare_correlation_heatmaps(\n",
    "    [main_df],\n",
    "    [\"Data\"],\n",
    "    cols=['MW', 'LogP', 'TPSA', 'HBD', 'HBA', 'RotBonds', 'RingCount', 'AromaticRings', 'Y']\n",
    ")\n"
   ]
  },
  {
   "cell_type": "code",
   "execution_count": null,
   "id": "b1e6a2f4",
   "metadata": {},
   "outputs": [],
   "source": [
    "######################################## Check Correlation Heatmaps across Splits ######################################## \n",
    "\n",
    "EDAVisualizer.compare_correlation_heatmaps(\n",
    "    [main_df, valid_df, test_df],\n",
    "    [\"Train\", \"Validation\", \"Test\"],\n",
    "    cols=['MW', 'LogP', 'TPSA', 'HBD', 'HBA', 'RotBonds', 'RingCount', 'AromaticRings', 'Y']\n",
    ")"
   ]
  },
  {
   "cell_type": "markdown",
   "id": "eafe0338",
   "metadata": {},
   "source": [
    "### Boxplot of Numeric Features Across Splits\n",
    "\n",
    "Boxplots give another visual cue on median, spread, and outliers per descriptor.\n",
    "\n",
    "Use:\n",
    "```python\n",
    "EDAVisualizer.compare_boxplots(\n",
    "    dfs=[train_df, valid_df, test_df],\n",
    "    df_names=['Train', 'Validation', 'Test'],\n",
    "    col='MW'\n",
    ")\n"
   ]
  },
  {
   "cell_type": "code",
   "execution_count": null,
   "id": "4691e2af",
   "metadata": {},
   "outputs": [],
   "source": [
    "######################################## Compare MW Boxplots ######################################## \n",
    "\n",
    "EDAVisualizer.compare_boxplots(\n",
    "    [main_df],\n",
    "    [\"AMES Data\"],\n",
    "    col='MW'\n",
    ")"
   ]
  },
  {
   "cell_type": "code",
   "execution_count": null,
   "id": "20d0f606",
   "metadata": {},
   "outputs": [],
   "source": [
    "######################################## Compare MW Boxplots ######################################## \n",
    "\n",
    "EDAVisualizer.compare_boxplots(\n",
    "    [train_df, valid_df, test_df],\n",
    "    [\"Train\", \"Validation\", \"Test\"],\n",
    "    col='MW'\n",
    ")"
   ]
  },
  {
   "cell_type": "markdown",
   "id": "ce0e9b9f",
   "metadata": {},
   "source": [
    "### Compare Feature Distributions (Histogram)\n",
    "\n",
    "Distribution shifts between train/test datasets can impact model generalization. Here, we compare numeric descriptor histograms.\n",
    "\n",
    "Example:\n",
    "```python\n",
    "EDAVisualizer.compare_numeric_distribution(\n",
    "    dfs=[train_df, test_df],\n",
    "    df_names=['Train', 'Test'],\n",
    "    col='MW'  # or LogP, TPSA, etc.\n",
    ")\n"
   ]
  },
  {
   "cell_type": "code",
   "execution_count": null,
   "id": "ef665709",
   "metadata": {},
   "outputs": [],
   "source": [
    "######################################## xxxxx ######################################## \n",
    "\n",
    "EDAVisualizer.compare_numeric_distribution(\n",
    "    [train_df, valid_df, test_df],\n",
    "    [\"Train\", \"Validation\", \"Test\"],\n",
    "    col='LogP'\n",
    ")"
   ]
  },
  {
   "cell_type": "markdown",
   "id": "6a808bca",
   "metadata": {},
   "source": [
    "_____________"
   ]
  },
  {
   "cell_type": "markdown",
   "id": "0d01b121",
   "metadata": {},
   "source": [
    "### 9. 🔍 Visual Inspection of Molecules ###\n",
    "\n",
    "Before building models, it’s helpful to get a “chemical feel” for the data by visualizing molecules per class.\n",
    "\n",
    "This function:\n",
    "- Randomly samples `n` molecules per class\n",
    "- Converts them to RDKit molecules\n",
    "- Displays them with grid labels\n",
    "\n",
    "Usage:\n",
    "```python\n",
    "EDAVisualizer.draw_samples_by_class(main_df, n=4)\n",
    "\n"
   ]
  },
  {
   "cell_type": "code",
   "execution_count": null,
   "id": "7de7651d",
   "metadata": {},
   "outputs": [],
   "source": [
    "######################################## Visualize \"n\" samples of molecules per class ########################################\n",
    "EDAVisualizer.draw_samples_by_class(main_df, n=5)"
   ]
  },
  {
   "cell_type": "code",
   "execution_count": null,
   "id": "adc577b5",
   "metadata": {},
   "outputs": [],
   "source": [
    "######################################## Draw Sample DRUG SMILE ########################################\n",
    "\n",
    "EDAVisualizer.draw_molecules([\n",
    "    \"CC(=O)OC1=CC=CC=C1C(=O)O\",  # Aspirin\n",
    "    \"CC(C)CC1=CC=C(C=C1)C(C)C(=O)O\"  # Ibuprofen\n",
    "])"
   ]
  },
  {
   "cell_type": "markdown",
   "id": "dae03ffc",
   "metadata": {},
   "source": [
    "________"
   ]
  },
  {
   "cell_type": "markdown",
   "id": "d7526f3f",
   "metadata": {},
   "source": [
    "## 🧬 Molecular Featurization using Ersilia Representation Model"
   ]
  },
  {
   "cell_type": "markdown",
   "id": "ed96a4e2",
   "metadata": {},
   "source": [
    "In this phase, each molecule in the AMES dataset is converted into a numerical vector representation using a pretrained model from the **[Ersilia Model Hub](https://www.ersilia.io/model-hub)**.\n",
    "\n",
    "The **ErG 2D Descriptors**  representation model was used:\n",
    "\n",
    "> The Extended Reduced Graph (ErG) approach encodes pharmacophoric properties of molecules by describing their pharmacophore nodes.  \n",
    "> This model (`eos5guo`) captures the size, shape, and functional characteristics of molecules, making it particularly effective for identifying pharmacophoric patterns.  \n",
    "> It was benchmarked against Daylight fingerprints and outperformed them in 10 out of 11 tasks.  \n",
    "> ErG descriptors are especially useful in **scaffold hopping**, a key strategy in drug discovery.\n",
    "\n",
    "📦 **Model:** `eos5guo`  \n",
    "🔗 **Source Code:** [github.com/ersilia-os/eos5guo](https://github.com/ersilia-os/eos5guo)  \n",
    "📖 **Reference Publication:** [10.1021/ci050457y](https://pubs.acs.org/doi/10.1021/ci050457y)\n",
    "\n",
    "### How the process works:\n",
    "\n",
    "- The `MolecularFeaturiser` class checks if the model is installed. If not, it **automatically fetches it** using the Ersilia Python SDK.\n",
    "- The `MolecularFeaturiser` can also be initiated using CLI by setting `use_python_api=False`\n",
    "- Additionally, by setting `auto_serve=True`, the class tries serving using Python SDK first; but if it fails, switches to CLI mode and logs both events and confirms when initialization is successful.\n",
    "- It then applies the model to the `train`, `val`, and `test` splits of the AMES dataset.\n",
    "- This will featurize the train, validation, and test splits.\n",
    "- Each SMILES string is transformed into a high-dimensional vector representation.\n",
    "- The output is stored as new CSV files (e.g., `train_eos5axz_features.csv`) inside `data/AMES/splits/`.\n",
    "- Then the featurization can be executed and preview the results.\n"
   ]
  },
  {
   "cell_type": "code",
   "execution_count": 3,
   "id": "6129a3bc",
   "metadata": {},
   "outputs": [
    {
     "name": "stderr",
     "output_type": "stream",
     "text": [
      "2025-04-02 05:34:49,853 - INFO - [API] Initializing Ersilia model: eos5guo\n"
     ]
    }
   ],
   "source": [
    "######################################## Initialize featurizer ########################################\n",
    "featuriser = MolecularFeaturiser(dataset_name=dataset, model_id=\"eos5guo\")"
   ]
  },
  {
   "cell_type": "code",
   "execution_count": 4,
   "id": "59644a0b",
   "metadata": {},
   "outputs": [
    {
     "name": "stderr",
     "output_type": "stream",
     "text": [
      "2025-04-02 05:35:06,061 - INFO - [+] Featurizing /Users/taiwoadelakin/Documents/Doc/Projects/outreachy-contributions/data/AMES/splits/train.csv -> /Users/taiwoadelakin/Documents/Doc/Projects/outreachy-contributions/data/AMES/splits/train_eos5guo_features.csv\n",
      "2025-04-02 05:35:18,206 - INFO - Deleted temporary file: /var/folders/5g/d1fz9jw119x57smh9smql2m00000gn/T/tmpqv0vjs2v.csv\n",
      "2025-04-02 05:35:18,207 - INFO - Deleted temporary file: /var/folders/5g/d1fz9jw119x57smh9smql2m00000gn/T/tmpqv0vjs2v_output.csv\n",
      "2025-04-02 05:35:18,215 - INFO - Attempting to merge labels from /Users/taiwoadelakin/Documents/Doc/Projects/outreachy-contributions/data/AMES/AMES.csv\n",
      "2025-04-02 05:35:18,252 - WARNING - Could not merge labels: 'input'\n",
      "2025-04-02 05:35:18,903 - INFO - Featurization completed in 12.84 seconds for train split.\n",
      "2025-04-02 05:35:18,904 - INFO - [+] Featurizing /Users/taiwoadelakin/Documents/Doc/Projects/outreachy-contributions/data/AMES/splits/valid.csv -> /Users/taiwoadelakin/Documents/Doc/Projects/outreachy-contributions/data/AMES/splits/valid_eos5guo_features.csv\n",
      "2025-04-02 05:35:20,935 - INFO - Deleted temporary file: /var/folders/5g/d1fz9jw119x57smh9smql2m00000gn/T/tmpnxneg2fc.csv\n",
      "2025-04-02 05:35:20,936 - INFO - Deleted temporary file: /var/folders/5g/d1fz9jw119x57smh9smql2m00000gn/T/tmpnxneg2fc_output.csv\n",
      "2025-04-02 05:35:20,941 - INFO - Attempting to merge labels from /Users/taiwoadelakin/Documents/Doc/Projects/outreachy-contributions/data/AMES/AMES.csv\n",
      "2025-04-02 05:35:20,951 - WARNING - Could not merge labels: 'input'\n",
      "2025-04-02 05:35:21,026 - INFO - Featurization completed in 2.12 seconds for valid split.\n",
      "2025-04-02 05:35:21,027 - INFO - [+] Featurizing /Users/taiwoadelakin/Documents/Doc/Projects/outreachy-contributions/data/AMES/splits/test.csv -> /Users/taiwoadelakin/Documents/Doc/Projects/outreachy-contributions/data/AMES/splits/test_eos5guo_features.csv\n",
      "2025-04-02 05:35:24,263 - INFO - Deleted temporary file: /var/folders/5g/d1fz9jw119x57smh9smql2m00000gn/T/tmp9_zx8tsg.csv\n",
      "2025-04-02 05:35:24,264 - INFO - Deleted temporary file: /var/folders/5g/d1fz9jw119x57smh9smql2m00000gn/T/tmp9_zx8tsg_output.csv\n",
      "2025-04-02 05:35:24,266 - INFO - Attempting to merge labels from /Users/taiwoadelakin/Documents/Doc/Projects/outreachy-contributions/data/AMES/AMES.csv\n",
      "2025-04-02 05:35:24,279 - WARNING - Could not merge labels: 'input'\n",
      "2025-04-02 05:35:24,442 - INFO - Featurization completed in 3.42 seconds for test split.\n"
     ]
    }
   ],
   "source": [
    "######################################## Run featurization across all dataset splits ######################################## \n",
    "\n",
    "featuriser.featurise_all_splits()"
   ]
  },
  {
   "cell_type": "code",
   "execution_count": 5,
   "id": "1a784e7f",
   "metadata": {},
   "outputs": [],
   "source": [
    "######################################## Load and preview featurized dataset among splits ######################################## \n",
    "\n",
    "split_paths = {\n",
    "    split: featuriser.get_featurized_path(split)\n",
    "    for split in [\"train\", \"valid\", \"test\"]\n",
    "}\n"
   ]
  },
  {
   "cell_type": "code",
   "execution_count": null,
   "id": "ea7d8092",
   "metadata": {},
   "outputs": [],
   "source": [
    "######################################## Read featurized Split Datasets ######################################## \n",
    "\n",
    "df_feat_train = pd.read_csv(split_paths[\"train\"])\n",
    "df_feat_valid   = pd.read_csv(split_paths[\"valid\"])\n",
    "df_feat_test  = pd.read_csv(split_paths[\"test\"])"
   ]
  },
  {
   "cell_type": "code",
   "execution_count": null,
   "id": "9d901c74",
   "metadata": {},
   "outputs": [
    {
     "name": "stdout",
     "output_type": "stream",
     "text": [
      "Featurized Train shape: (5094, 318)\n",
      "Featurized Validation shape: (728, 318)\n",
      "Featurized Test shape: (1456, 318)\n"
     ]
    }
   ],
   "source": [
    "######################################## Print Shape of Featurized Splits ######################################## \n",
    "\n",
    "print(\"Featurized Train shape:\", df_feat_train.shape)\n",
    "print(\"Featurized Validation shape:\", df_feat_valid.shape)\n",
    "print(\"Featurized Test shape:\", df_feat_test.shape)\n"
   ]
  },
  {
   "cell_type": "markdown",
   "id": "3d3e9b2c",
   "metadata": {},
   "source": [
    "___________"
   ]
  },
  {
   "cell_type": "markdown",
   "id": "bc2dd336",
   "metadata": {},
   "source": []
  }
 ],
 "metadata": {
  "kernelspec": {
   "display_name": ".venv",
   "language": "python",
   "name": "python3"
  },
  "language_info": {
   "codemirror_mode": {
    "name": "ipython",
    "version": 3
   },
   "file_extension": ".py",
   "mimetype": "text/x-python",
   "name": "python",
   "nbconvert_exporter": "python",
   "pygments_lexer": "ipython3",
   "version": "3.12.2"
  }
 },
 "nbformat": 4,
 "nbformat_minor": 5
}

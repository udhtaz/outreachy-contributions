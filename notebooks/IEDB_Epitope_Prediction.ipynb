{
 "cells": [
  {
   "cell_type": "markdown",
   "id": "e20e4764",
   "metadata": {},
   "source": [
    "# 🧬 IEDB Epitope Prediction (Jespersen et al.)"
   ]
  },
  {
   "cell_type": "markdown",
   "id": "2eacb53b",
   "metadata": {},
   "source": [
    "📖 **Dataset Description**\n",
    "\n",
    "Epitope prediction involves identifying regions on an antigen that are recognized by B-cell receptors or antibodies. These regions, called **B-cell epitopes**, are critical in vaccine design and immunotherapy.\n",
    "\n",
    "The **IEDB Jespersen** dataset is curated from BepiPred 2.0, which gathers B-cell epitope data from the **Immune Epitope Database (IEDB)**. The task is structured as a **token-level classification** problem, where each **amino acid residue** in a protein sequence is labeled as:  \n",
    "- `1` if it's part of an epitope  \n",
    "- `0` otherwise\n",
    "\n",
    "The dataset contains antigen sequences with corresponding residue-level labels determined using crystallographic data.\n",
    "\n",
    "- **Task Type**: Token-level binary classification  \n",
    "- **Input**: Amino acid sequence (protein/antigen)  \n",
    "- **Output**: List of active residue positions (epitope = `1`, non-epitope = `0`)  \n",
    "- **Size**: 3,159 antigen sequences  \n",
    "\n",
    "## 📚 References  \n",
    "1. Vita, Randi, et al. “The immune epitope database (IEDB): 2018 update.” *Nucleic acids research* 47.D1 (2019): D339-D343.  \n",
    "2. Jespersen, Martin Closter, et al. “BepiPred-2.0: improving sequence-based B-cell epitope prediction using conformational epitopes.” *Nucleic acids research* 45.W1 (2017): W24-W29.\n",
    "\n",
    "**License**: CC BY 4.0\n"
   ]
  },
  {
   "cell_type": "markdown",
   "id": "a6641842",
   "metadata": {},
   "source": [
    "## 📦 Imports"
   ]
  },
  {
   "cell_type": "code",
   "execution_count": 1,
   "id": "286a7daf",
   "metadata": {},
   "outputs": [],
   "source": [
    "import os\n",
    "import sys\n",
    "\n",
    "sys.path.append(os.path.abspath(\"..\"))\n",
    "\n",
    "import pandas as pd\n",
    "from scripts.tdc_dataset_download import TDCDatasetDownloader\n",
    "from scripts.eda_utils import DatasetLoader, EDAVisualizer, SMARTSPatternAnalyzer\n"
   ]
  },
  {
   "cell_type": "markdown",
   "id": "774229df",
   "metadata": {},
   "source": [
    "______"
   ]
  },
  {
   "cell_type": "markdown",
   "id": "f031ecf4",
   "metadata": {},
   "source": [
    "## 📥 Download AMES Dataset"
   ]
  },
  {
   "cell_type": "code",
   "execution_count": 2,
   "id": "baef2150",
   "metadata": {},
   "outputs": [],
   "source": [
    "# Declare category and dataset\n",
    "category = 'epitope'\n",
    "dataset = 'IEDB_Jespersen'"
   ]
  },
  {
   "cell_type": "code",
   "execution_count": 3,
   "id": "6aea6a48",
   "metadata": {},
   "outputs": [
    {
     "name": "stderr",
     "output_type": "stream",
     "text": [
      "Downloading...\n",
      "100%|██████████| 2.18M/2.18M [01:07<00:00, 32.2kiB/s]\n",
      "Loading...\n",
      "Done!\n"
     ]
    },
    {
     "name": "stdout",
     "output_type": "stream",
     "text": [
      "✅ Dataset 'IEDB_Jespersen' saved to '/Users/taiwoadelakin/Documents/Doc/Projects/outreachy-contributions/data/IEDB_Jespersen/IEDB_Jespersen.csv'\n",
      "✅ train split saved to '/Users/taiwoadelakin/Documents/Doc/Projects/outreachy-contributions/data/IEDB_Jespersen/splits/train.csv'\n",
      "✅ valid split saved to '/Users/taiwoadelakin/Documents/Doc/Projects/outreachy-contributions/data/IEDB_Jespersen/splits/valid.csv'\n",
      "✅ test split saved to '/Users/taiwoadelakin/Documents/Doc/Projects/outreachy-contributions/data/IEDB_Jespersen/splits/test.csv'\n"
     ]
    }
   ],
   "source": [
    "# Initiate downloader class to download the dataset\n",
    "downloader = TDCDatasetDownloader(category, dataset)"
   ]
  },
  {
   "cell_type": "markdown",
   "id": "c3ed3530",
   "metadata": {},
   "source": [
    "________"
   ]
  },
  {
   "cell_type": "markdown",
   "id": "fee396e3",
   "metadata": {},
   "source": [
    "## 📊 Exploratory Data Analysis\n",
    "\n",
    "In this section, we analyze the AMES mutagenicity dataset to better understand its structure, balance, and molecular content. Exploratory Data Analysis (EDA) helps us uncover patterns, detect anomalies, and gain insights that will guide our preprocessing and modeling steps."
   ]
  },
  {
   "cell_type": "markdown",
   "id": "45403e06",
   "metadata": {},
   "source": [
    "### 1. Load Datasets ###"
   ]
  },
  {
   "cell_type": "code",
   "execution_count": 4,
   "id": "b8f474bc",
   "metadata": {},
   "outputs": [],
   "source": [
    "######################################## Initialize the dataset loader ######################################## \n",
    "loader = DatasetLoader(dataset_name=dataset)"
   ]
  },
  {
   "cell_type": "code",
   "execution_count": 5,
   "id": "3725fb80",
   "metadata": {},
   "outputs": [
    {
     "name": "stdout",
     "output_type": "stream",
     "text": [
      "🧬 IEDB_Jespersen_main  ➡️ (3159, 3)\n",
      "⚗️ IEDB_Jespersen_train ➡️ (2211, 3)\n",
      "🔬 IEDB_Jespersen_valid ➡️ (316, 3)\n",
      "🧪 IEDB_Jespersen_test  ➡️ (632, 3)\n"
     ]
    }
   ],
   "source": [
    "######################################## Load datasets ######################################## \n",
    "main_df, train_df, valid_df, test_df = loader.load_all()"
   ]
  },
  {
   "cell_type": "markdown",
   "id": "5df31ffc",
   "metadata": {},
   "source": [
    "______"
   ]
  },
  {
   "cell_type": "markdown",
   "id": "e79311e0",
   "metadata": {},
   "source": [
    "### 2. 📦 Dataset Overview ###\n",
    "\n",
    "Before diving into the analysis, it’s essential to understand the structure of the datasets we’re working with — including the main dataset and the train/validation/test splits.\n",
    "\n",
    "The function `EDAVisualizer.show_dataset_info()` provides a concise summary of:\n",
    "- Shape (rows × columns)\n",
    "- Column names\n",
    "- Missing values\n",
    "- Sample preview (via `.head()`)\n",
    "\n",
    "You can run this by:\n",
    "```python\n",
    "EDAVisualizer.show_dataset_info(loader)\n",
    "\n",
    "```\n",
    "Alternatively, for specific splits only e.g for just Train and Test Data:\n",
    "```python\n",
    "selected_datasets = ['train','test']\n",
    "EDAVisualizer.show_dataset_info(loader, dataset_names=selected_datasets)\n",
    "\n"
   ]
  },
  {
   "cell_type": "code",
   "execution_count": 6,
   "id": "a1f92a9e",
   "metadata": {},
   "outputs": [
    {
     "name": "stdout",
     "output_type": "stream",
     "text": [
      "🧬 IEDB_Jespersen_main Info\n",
      "----------------------------------------\n",
      "Shape: (3159, 3)\n",
      "Columns: ['Antigen_ID', 'Antigen', 'Y']\n",
      "\n",
      "Missing values:\n",
      "Antigen_ID    0\n",
      "Antigen       0\n",
      "Y             0\n",
      "dtype: int64\n",
      "\n",
      "Preview:\n"
     ]
    },
    {
     "data": {
      "text/html": [
       "<div>\n",
       "<style scoped>\n",
       "    .dataframe tbody tr th:only-of-type {\n",
       "        vertical-align: middle;\n",
       "    }\n",
       "\n",
       "    .dataframe tbody tr th {\n",
       "        vertical-align: top;\n",
       "    }\n",
       "\n",
       "    .dataframe thead th {\n",
       "        text-align: right;\n",
       "    }\n",
       "</style>\n",
       "<table border=\"1\" class=\"dataframe\">\n",
       "  <thead>\n",
       "    <tr style=\"text-align: right;\">\n",
       "      <th></th>\n",
       "      <th>Antigen_ID</th>\n",
       "      <th>Antigen</th>\n",
       "      <th>Y</th>\n",
       "    </tr>\n",
       "  </thead>\n",
       "  <tbody>\n",
       "    <tr>\n",
       "      <th>0</th>\n",
       "      <td>Protein 1</td>\n",
       "      <td>MASQKRPSQRHGSKYLATASTMDHARHGFLPRHRDTGILDSIGRFF...</td>\n",
       "      <td>[109, 110, 111, 112, 113, 114, 115, 116, 117, ...</td>\n",
       "    </tr>\n",
       "    <tr>\n",
       "      <th>1</th>\n",
       "      <td>Protein 2</td>\n",
       "      <td>MSDLTDIQEDITRHEQQLIVARQKLKDAERAVEVDPDDVNKNTLQA...</td>\n",
       "      <td>[312, 313, 314, 315, 316, 317, 318, 319, 320, ...</td>\n",
       "    </tr>\n",
       "    <tr>\n",
       "      <th>2</th>\n",
       "      <td>Protein 3</td>\n",
       "      <td>MAEGFAANRQWIGPEEAEELLDFDIAIQMNEEGPLNPGVNPFRVPG...</td>\n",
       "      <td>[585, 586, 587, 588, 589, 590, 591, 592, 593, ...</td>\n",
       "    </tr>\n",
       "    <tr>\n",
       "      <th>3</th>\n",
       "      <td>Protein 4</td>\n",
       "      <td>MSKKPGGPGKSRAVNMLKRGMPRVLSLTGLKRAMLSLIDGRGPTRF...</td>\n",
       "      <td>[811, 812, 813, 814, 815, 816, 817, 818, 819, ...</td>\n",
       "    </tr>\n",
       "    <tr>\n",
       "      <th>4</th>\n",
       "      <td>Protein 5</td>\n",
       "      <td>MKLLILTCLVAVALARPKHPIKHQGLPQEVLNENLLRFFVAPFPEV...</td>\n",
       "      <td>[55, 56, 57, 58, 59, 60, 61, 62, 63, 64]</td>\n",
       "    </tr>\n",
       "  </tbody>\n",
       "</table>\n",
       "</div>"
      ],
      "text/plain": [
       "  Antigen_ID                                            Antigen  \\\n",
       "0  Protein 1  MASQKRPSQRHGSKYLATASTMDHARHGFLPRHRDTGILDSIGRFF...   \n",
       "1  Protein 2  MSDLTDIQEDITRHEQQLIVARQKLKDAERAVEVDPDDVNKNTLQA...   \n",
       "2  Protein 3  MAEGFAANRQWIGPEEAEELLDFDIAIQMNEEGPLNPGVNPFRVPG...   \n",
       "3  Protein 4  MSKKPGGPGKSRAVNMLKRGMPRVLSLTGLKRAMLSLIDGRGPTRF...   \n",
       "4  Protein 5  MKLLILTCLVAVALARPKHPIKHQGLPQEVLNENLLRFFVAPFPEV...   \n",
       "\n",
       "                                                   Y  \n",
       "0  [109, 110, 111, 112, 113, 114, 115, 116, 117, ...  \n",
       "1  [312, 313, 314, 315, 316, 317, 318, 319, 320, ...  \n",
       "2  [585, 586, 587, 588, 589, 590, 591, 592, 593, ...  \n",
       "3  [811, 812, 813, 814, 815, 816, 817, 818, 819, ...  \n",
       "4           [55, 56, 57, 58, 59, 60, 61, 62, 63, 64]  "
      ]
     },
     "metadata": {},
     "output_type": "display_data"
    },
    {
     "name": "stdout",
     "output_type": "stream",
     "text": [
      "\n",
      "\n",
      "⚗️ IEDB_Jespersen_train Info\n",
      "----------------------------------------\n",
      "Shape: (2211, 3)\n",
      "Columns: ['Antigen_ID', 'Antigen', 'Y']\n",
      "\n",
      "Missing values:\n",
      "Antigen_ID    0\n",
      "Antigen       0\n",
      "Y             0\n",
      "dtype: int64\n",
      "\n",
      "Preview:\n"
     ]
    },
    {
     "data": {
      "text/html": [
       "<div>\n",
       "<style scoped>\n",
       "    .dataframe tbody tr th:only-of-type {\n",
       "        vertical-align: middle;\n",
       "    }\n",
       "\n",
       "    .dataframe tbody tr th {\n",
       "        vertical-align: top;\n",
       "    }\n",
       "\n",
       "    .dataframe thead th {\n",
       "        text-align: right;\n",
       "    }\n",
       "</style>\n",
       "<table border=\"1\" class=\"dataframe\">\n",
       "  <thead>\n",
       "    <tr style=\"text-align: right;\">\n",
       "      <th></th>\n",
       "      <th>Antigen_ID</th>\n",
       "      <th>Antigen</th>\n",
       "      <th>Y</th>\n",
       "    </tr>\n",
       "  </thead>\n",
       "  <tbody>\n",
       "    <tr>\n",
       "      <th>0</th>\n",
       "      <td>Protein 2</td>\n",
       "      <td>MSDLTDIQEDITRHEQQLIVARQKLKDAERAVEVDPDDVNKNTLQA...</td>\n",
       "      <td>[312, 313, 314, 315, 316, 317, 318, 319, 320, ...</td>\n",
       "    </tr>\n",
       "    <tr>\n",
       "      <th>1</th>\n",
       "      <td>Protein 3</td>\n",
       "      <td>MAEGFAANRQWIGPEEAEELLDFDIAIQMNEEGPLNPGVNPFRVPG...</td>\n",
       "      <td>[585, 586, 587, 588, 589, 590, 591, 592, 593, ...</td>\n",
       "    </tr>\n",
       "    <tr>\n",
       "      <th>2</th>\n",
       "      <td>Protein 4</td>\n",
       "      <td>MSKKPGGPGKSRAVNMLKRGMPRVLSLTGLKRAMLSLIDGRGPTRF...</td>\n",
       "      <td>[811, 812, 813, 814, 815, 816, 817, 818, 819, ...</td>\n",
       "    </tr>\n",
       "    <tr>\n",
       "      <th>3</th>\n",
       "      <td>Protein 5</td>\n",
       "      <td>MKLLILTCLVAVALARPKHPIKHQGLPQEVLNENLLRFFVAPFPEV...</td>\n",
       "      <td>[55, 56, 57, 58, 59, 60, 61, 62, 63, 64]</td>\n",
       "    </tr>\n",
       "    <tr>\n",
       "      <th>4</th>\n",
       "      <td>Protein 7</td>\n",
       "      <td>MNTLLLTLVVVTIVCLDFGYTTKCLTKFSPGLQTSQTCPAGQKICF...</td>\n",
       "      <td>[27, 28, 29, 30, 31, 32, 33, 34, 35, 36, 37, 3...</td>\n",
       "    </tr>\n",
       "  </tbody>\n",
       "</table>\n",
       "</div>"
      ],
      "text/plain": [
       "  Antigen_ID                                            Antigen  \\\n",
       "0  Protein 2  MSDLTDIQEDITRHEQQLIVARQKLKDAERAVEVDPDDVNKNTLQA...   \n",
       "1  Protein 3  MAEGFAANRQWIGPEEAEELLDFDIAIQMNEEGPLNPGVNPFRVPG...   \n",
       "2  Protein 4  MSKKPGGPGKSRAVNMLKRGMPRVLSLTGLKRAMLSLIDGRGPTRF...   \n",
       "3  Protein 5  MKLLILTCLVAVALARPKHPIKHQGLPQEVLNENLLRFFVAPFPEV...   \n",
       "4  Protein 7  MNTLLLTLVVVTIVCLDFGYTTKCLTKFSPGLQTSQTCPAGQKICF...   \n",
       "\n",
       "                                                   Y  \n",
       "0  [312, 313, 314, 315, 316, 317, 318, 319, 320, ...  \n",
       "1  [585, 586, 587, 588, 589, 590, 591, 592, 593, ...  \n",
       "2  [811, 812, 813, 814, 815, 816, 817, 818, 819, ...  \n",
       "3           [55, 56, 57, 58, 59, 60, 61, 62, 63, 64]  \n",
       "4  [27, 28, 29, 30, 31, 32, 33, 34, 35, 36, 37, 3...  "
      ]
     },
     "metadata": {},
     "output_type": "display_data"
    },
    {
     "name": "stdout",
     "output_type": "stream",
     "text": [
      "\n",
      "\n",
      "🔬 IEDB_Jespersen_valid Info\n",
      "----------------------------------------\n",
      "Shape: (316, 3)\n",
      "Columns: ['Antigen_ID', 'Antigen', 'Y']\n",
      "\n",
      "Missing values:\n",
      "Antigen_ID    0\n",
      "Antigen       0\n",
      "Y             0\n",
      "dtype: int64\n",
      "\n",
      "Preview:\n"
     ]
    },
    {
     "data": {
      "text/html": [
       "<div>\n",
       "<style scoped>\n",
       "    .dataframe tbody tr th:only-of-type {\n",
       "        vertical-align: middle;\n",
       "    }\n",
       "\n",
       "    .dataframe tbody tr th {\n",
       "        vertical-align: top;\n",
       "    }\n",
       "\n",
       "    .dataframe thead th {\n",
       "        text-align: right;\n",
       "    }\n",
       "</style>\n",
       "<table border=\"1\" class=\"dataframe\">\n",
       "  <thead>\n",
       "    <tr style=\"text-align: right;\">\n",
       "      <th></th>\n",
       "      <th>Antigen_ID</th>\n",
       "      <th>Antigen</th>\n",
       "      <th>Y</th>\n",
       "    </tr>\n",
       "  </thead>\n",
       "  <tbody>\n",
       "    <tr>\n",
       "      <th>0</th>\n",
       "      <td>Protein 491</td>\n",
       "      <td>GSCVTTMAKNKPTLDFELIKTEAKQPATLRKYCIEAKLTNTTTESR...</td>\n",
       "      <td>[198, 199, 200, 201, 202, 203, 204, 205]</td>\n",
       "    </tr>\n",
       "    <tr>\n",
       "      <th>1</th>\n",
       "      <td>Protein 1277</td>\n",
       "      <td>QSVLTQPPSVSGAPGQRVTISCTGSRSNIGAGYHVHWYQQLPGTAP...</td>\n",
       "      <td>[132, 133, 134, 135, 136, 137, 138, 139, 140, ...</td>\n",
       "    </tr>\n",
       "    <tr>\n",
       "      <th>2</th>\n",
       "      <td>Protein 1039</td>\n",
       "      <td>MRTLWIMAVLLVGVEGDLWQFGQMILKETGKLPFPYYTTYGCYCGW...</td>\n",
       "      <td>[36, 37, 38, 39, 40, 41, 42, 43, 44, 45, 46, 4...</td>\n",
       "    </tr>\n",
       "    <tr>\n",
       "      <th>3</th>\n",
       "      <td>Protein 893</td>\n",
       "      <td>MATLEKLMKAFESLKSFQQQQQQQQQQQQQQQQQQQQQQQPPPPPP...</td>\n",
       "      <td>[442, 443, 444, 445, 446, 447, 448, 449, 450, ...</td>\n",
       "    </tr>\n",
       "    <tr>\n",
       "      <th>4</th>\n",
       "      <td>Protein 110</td>\n",
       "      <td>MACATLKRTHDWDPLHSPNGRSPKRRRCMPLSVTQAATPPTRAHQI...</td>\n",
       "      <td>[56, 57, 58, 59, 60, 61, 62, 63, 64, 65, 66, 6...</td>\n",
       "    </tr>\n",
       "  </tbody>\n",
       "</table>\n",
       "</div>"
      ],
      "text/plain": [
       "     Antigen_ID                                            Antigen  \\\n",
       "0   Protein 491  GSCVTTMAKNKPTLDFELIKTEAKQPATLRKYCIEAKLTNTTTESR...   \n",
       "1  Protein 1277  QSVLTQPPSVSGAPGQRVTISCTGSRSNIGAGYHVHWYQQLPGTAP...   \n",
       "2  Protein 1039  MRTLWIMAVLLVGVEGDLWQFGQMILKETGKLPFPYYTTYGCYCGW...   \n",
       "3   Protein 893  MATLEKLMKAFESLKSFQQQQQQQQQQQQQQQQQQQQQQQPPPPPP...   \n",
       "4   Protein 110  MACATLKRTHDWDPLHSPNGRSPKRRRCMPLSVTQAATPPTRAHQI...   \n",
       "\n",
       "                                                   Y  \n",
       "0           [198, 199, 200, 201, 202, 203, 204, 205]  \n",
       "1  [132, 133, 134, 135, 136, 137, 138, 139, 140, ...  \n",
       "2  [36, 37, 38, 39, 40, 41, 42, 43, 44, 45, 46, 4...  \n",
       "3  [442, 443, 444, 445, 446, 447, 448, 449, 450, ...  \n",
       "4  [56, 57, 58, 59, 60, 61, 62, 63, 64, 65, 66, 6...  "
      ]
     },
     "metadata": {},
     "output_type": "display_data"
    },
    {
     "name": "stdout",
     "output_type": "stream",
     "text": [
      "\n",
      "\n",
      "🧪 IEDB_Jespersen_test Info\n",
      "----------------------------------------\n",
      "Shape: (632, 3)\n",
      "Columns: ['Antigen_ID', 'Antigen', 'Y']\n",
      "\n",
      "Missing values:\n",
      "Antigen_ID    0\n",
      "Antigen       0\n",
      "Y             0\n",
      "dtype: int64\n",
      "\n",
      "Preview:\n"
     ]
    },
    {
     "data": {
      "text/html": [
       "<div>\n",
       "<style scoped>\n",
       "    .dataframe tbody tr th:only-of-type {\n",
       "        vertical-align: middle;\n",
       "    }\n",
       "\n",
       "    .dataframe tbody tr th {\n",
       "        vertical-align: top;\n",
       "    }\n",
       "\n",
       "    .dataframe thead th {\n",
       "        text-align: right;\n",
       "    }\n",
       "</style>\n",
       "<table border=\"1\" class=\"dataframe\">\n",
       "  <thead>\n",
       "    <tr style=\"text-align: right;\">\n",
       "      <th></th>\n",
       "      <th>Antigen_ID</th>\n",
       "      <th>Antigen</th>\n",
       "      <th>Y</th>\n",
       "    </tr>\n",
       "  </thead>\n",
       "  <tbody>\n",
       "    <tr>\n",
       "      <th>0</th>\n",
       "      <td>Protein 2464</td>\n",
       "      <td>MNMSRQGIFQTVGSGLDHILSLADIEEEQMIQSVDRTAVTGASYFT...</td>\n",
       "      <td>[821, 822, 823, 824, 825, 826, 827, 828, 829, ...</td>\n",
       "    </tr>\n",
       "    <tr>\n",
       "      <th>1</th>\n",
       "      <td>Protein 2509</td>\n",
       "      <td>MEVRVPNFHSFVEGITSSYLKTPACWNAQTAWDTVTFHVPDVIRVG...</td>\n",
       "      <td>[31, 32, 33, 34, 35, 36, 37]</td>\n",
       "    </tr>\n",
       "    <tr>\n",
       "      <th>2</th>\n",
       "      <td>Protein 2987</td>\n",
       "      <td>MAATGTAAAAATGRLLLLLLVGLTAPALALAGYIEALAANAGTGFA...</td>\n",
       "      <td>[661, 662, 663, 664, 665, 666, 667, 668, 669, ...</td>\n",
       "    </tr>\n",
       "    <tr>\n",
       "      <th>3</th>\n",
       "      <td>Protein 1407</td>\n",
       "      <td>YASVAVAVAVLGAGFANQTTVKAESSNNAESSNISQESKLINTLTD...</td>\n",
       "      <td>[23, 24, 25, 26, 27, 28, 29, 30, 31, 32, 33, 3...</td>\n",
       "    </tr>\n",
       "    <tr>\n",
       "      <th>4</th>\n",
       "      <td>Protein 860</td>\n",
       "      <td>MRALAVLSVTLVMACTEAFFPFISRGKELLWGKPEESRVSSVLEES...</td>\n",
       "      <td>[361, 362, 363, 364, 365, 366, 367, 368, 369, ...</td>\n",
       "    </tr>\n",
       "  </tbody>\n",
       "</table>\n",
       "</div>"
      ],
      "text/plain": [
       "     Antigen_ID                                            Antigen  \\\n",
       "0  Protein 2464  MNMSRQGIFQTVGSGLDHILSLADIEEEQMIQSVDRTAVTGASYFT...   \n",
       "1  Protein 2509  MEVRVPNFHSFVEGITSSYLKTPACWNAQTAWDTVTFHVPDVIRVG...   \n",
       "2  Protein 2987  MAATGTAAAAATGRLLLLLLVGLTAPALALAGYIEALAANAGTGFA...   \n",
       "3  Protein 1407  YASVAVAVAVLGAGFANQTTVKAESSNNAESSNISQESKLINTLTD...   \n",
       "4   Protein 860  MRALAVLSVTLVMACTEAFFPFISRGKELLWGKPEESRVSSVLEES...   \n",
       "\n",
       "                                                   Y  \n",
       "0  [821, 822, 823, 824, 825, 826, 827, 828, 829, ...  \n",
       "1                       [31, 32, 33, 34, 35, 36, 37]  \n",
       "2  [661, 662, 663, 664, 665, 666, 667, 668, 669, ...  \n",
       "3  [23, 24, 25, 26, 27, 28, 29, 30, 31, 32, 33, 3...  \n",
       "4  [361, 362, 363, 364, 365, 366, 367, 368, 369, ...  "
      ]
     },
     "metadata": {},
     "output_type": "display_data"
    },
    {
     "name": "stdout",
     "output_type": "stream",
     "text": [
      "\n",
      "\n"
     ]
    }
   ],
   "source": [
    "######################################## Show Dataset Info  ########################################\n",
    "\n",
    "EDAVisualizer.show_dataset_info(loader)"
   ]
  },
  {
   "cell_type": "markdown",
   "id": "e0f96db9",
   "metadata": {},
   "source": [
    "-----"
   ]
  },
  {
   "cell_type": "markdown",
   "id": "3a3fb6b7",
   "metadata": {},
   "source": [
    "### 3. 💎 Unique SMILES Analysis ###\n",
    "\n",
    "Knowing how many unique compounds exist in each dataset helps:\n",
    "- Measure diversity\n",
    "- Avoid duplication bias\n",
    "- Confirm splits are stratified\n",
    "\n",
    "Run:\n",
    "```python\n",
    "EDAVisualizer.compare_unique_smiles(\n",
    "    dfs=[train_df, valid_df, test_df],\n",
    "    df_names=['Train', 'Valid', 'Test'],\n",
    "    smiles_col='Drug'  \n",
    ")\n"
   ]
  },
  {
   "cell_type": "code",
   "execution_count": 7,
   "id": "931ddddd",
   "metadata": {},
   "outputs": [
    {
     "ename": "KeyError",
     "evalue": "'Drug'",
     "output_type": "error",
     "traceback": [
      "\u001b[31m---------------------------------------------------------------------------\u001b[39m",
      "\u001b[31mKeyError\u001b[39m                                  Traceback (most recent call last)",
      "\u001b[36mFile \u001b[39m\u001b[32m~/Documents/Doc/Projects/outreachy-contributions/.venv/lib/python3.12/site-packages/pandas/core/indexes/base.py:3805\u001b[39m, in \u001b[36mIndex.get_loc\u001b[39m\u001b[34m(self, key)\u001b[39m\n\u001b[32m   3804\u001b[39m \u001b[38;5;28;01mtry\u001b[39;00m:\n\u001b[32m-> \u001b[39m\u001b[32m3805\u001b[39m     \u001b[38;5;28;01mreturn\u001b[39;00m \u001b[38;5;28;43mself\u001b[39;49m\u001b[43m.\u001b[49m\u001b[43m_engine\u001b[49m\u001b[43m.\u001b[49m\u001b[43mget_loc\u001b[49m\u001b[43m(\u001b[49m\u001b[43mcasted_key\u001b[49m\u001b[43m)\u001b[49m\n\u001b[32m   3806\u001b[39m \u001b[38;5;28;01mexcept\u001b[39;00m \u001b[38;5;167;01mKeyError\u001b[39;00m \u001b[38;5;28;01mas\u001b[39;00m err:\n",
      "\u001b[36mFile \u001b[39m\u001b[32mindex.pyx:167\u001b[39m, in \u001b[36mpandas._libs.index.IndexEngine.get_loc\u001b[39m\u001b[34m()\u001b[39m\n",
      "\u001b[36mFile \u001b[39m\u001b[32mindex.pyx:196\u001b[39m, in \u001b[36mpandas._libs.index.IndexEngine.get_loc\u001b[39m\u001b[34m()\u001b[39m\n",
      "\u001b[36mFile \u001b[39m\u001b[32mpandas/_libs/hashtable_class_helper.pxi:7081\u001b[39m, in \u001b[36mpandas._libs.hashtable.PyObjectHashTable.get_item\u001b[39m\u001b[34m()\u001b[39m\n",
      "\u001b[36mFile \u001b[39m\u001b[32mpandas/_libs/hashtable_class_helper.pxi:7089\u001b[39m, in \u001b[36mpandas._libs.hashtable.PyObjectHashTable.get_item\u001b[39m\u001b[34m()\u001b[39m\n",
      "\u001b[31mKeyError\u001b[39m: 'Drug'",
      "\nThe above exception was the direct cause of the following exception:\n",
      "\u001b[31mKeyError\u001b[39m                                  Traceback (most recent call last)",
      "\u001b[36mCell\u001b[39m\u001b[36m \u001b[39m\u001b[32mIn[7]\u001b[39m\u001b[32m, line 2\u001b[39m\n\u001b[32m      1\u001b[39m \u001b[38;5;66;03m######################################## Check Unique  Drug  Count in each dataset  ########################################\u001b[39;00m\n\u001b[32m----> \u001b[39m\u001b[32m2\u001b[39m \u001b[38;5;28mprint\u001b[39m(\u001b[33mf\u001b[39m\u001b[33m\"\u001b[39m\u001b[33mNumber of Unique drug count in \u001b[39m\u001b[38;5;132;01m{\u001b[39;00mdataset\u001b[38;5;132;01m}\u001b[39;00m\u001b[33m train data is: =====>> \u001b[39m\u001b[38;5;132;01m{\u001b[39;00m\u001b[43mtrain_df\u001b[49m\u001b[43m[\u001b[49m\u001b[33;43m\"\u001b[39;49m\u001b[33;43mDrug\u001b[39;49m\u001b[33;43m\"\u001b[39;49m\u001b[43m]\u001b[49m.nunique()\u001b[38;5;132;01m}\u001b[39;00m\u001b[38;5;130;01m\\n\u001b[39;00m\u001b[33m\"\u001b[39m)\n\u001b[32m      3\u001b[39m \u001b[38;5;28mprint\u001b[39m(\u001b[33mf\u001b[39m\u001b[33m\"\u001b[39m\u001b[33mNumber of Unique drug count in \u001b[39m\u001b[38;5;132;01m{\u001b[39;00mdataset\u001b[38;5;132;01m}\u001b[39;00m\u001b[33m validation data is: =====>> \u001b[39m\u001b[38;5;132;01m{\u001b[39;00mvalid_df[\u001b[33m\"\u001b[39m\u001b[33mDrug\u001b[39m\u001b[33m\"\u001b[39m].nunique()\u001b[38;5;132;01m}\u001b[39;00m\u001b[38;5;130;01m\\n\u001b[39;00m\u001b[33m\"\u001b[39m)\n\u001b[32m      4\u001b[39m \u001b[38;5;28mprint\u001b[39m(\u001b[33mf\u001b[39m\u001b[33m\"\u001b[39m\u001b[33mNumber of Unique drug count in \u001b[39m\u001b[38;5;132;01m{\u001b[39;00mdataset\u001b[38;5;132;01m}\u001b[39;00m\u001b[33m test data is: =====>> \u001b[39m\u001b[38;5;132;01m{\u001b[39;00mtest_df[\u001b[33m\"\u001b[39m\u001b[33mDrug\u001b[39m\u001b[33m\"\u001b[39m].nunique()\u001b[38;5;132;01m}\u001b[39;00m\u001b[38;5;130;01m\\n\u001b[39;00m\u001b[33m\"\u001b[39m)\n",
      "\u001b[36mFile \u001b[39m\u001b[32m~/Documents/Doc/Projects/outreachy-contributions/.venv/lib/python3.12/site-packages/pandas/core/frame.py:4102\u001b[39m, in \u001b[36mDataFrame.__getitem__\u001b[39m\u001b[34m(self, key)\u001b[39m\n\u001b[32m   4100\u001b[39m \u001b[38;5;28;01mif\u001b[39;00m \u001b[38;5;28mself\u001b[39m.columns.nlevels > \u001b[32m1\u001b[39m:\n\u001b[32m   4101\u001b[39m     \u001b[38;5;28;01mreturn\u001b[39;00m \u001b[38;5;28mself\u001b[39m._getitem_multilevel(key)\n\u001b[32m-> \u001b[39m\u001b[32m4102\u001b[39m indexer = \u001b[38;5;28;43mself\u001b[39;49m\u001b[43m.\u001b[49m\u001b[43mcolumns\u001b[49m\u001b[43m.\u001b[49m\u001b[43mget_loc\u001b[49m\u001b[43m(\u001b[49m\u001b[43mkey\u001b[49m\u001b[43m)\u001b[49m\n\u001b[32m   4103\u001b[39m \u001b[38;5;28;01mif\u001b[39;00m is_integer(indexer):\n\u001b[32m   4104\u001b[39m     indexer = [indexer]\n",
      "\u001b[36mFile \u001b[39m\u001b[32m~/Documents/Doc/Projects/outreachy-contributions/.venv/lib/python3.12/site-packages/pandas/core/indexes/base.py:3812\u001b[39m, in \u001b[36mIndex.get_loc\u001b[39m\u001b[34m(self, key)\u001b[39m\n\u001b[32m   3807\u001b[39m     \u001b[38;5;28;01mif\u001b[39;00m \u001b[38;5;28misinstance\u001b[39m(casted_key, \u001b[38;5;28mslice\u001b[39m) \u001b[38;5;129;01mor\u001b[39;00m (\n\u001b[32m   3808\u001b[39m         \u001b[38;5;28misinstance\u001b[39m(casted_key, abc.Iterable)\n\u001b[32m   3809\u001b[39m         \u001b[38;5;129;01mand\u001b[39;00m \u001b[38;5;28many\u001b[39m(\u001b[38;5;28misinstance\u001b[39m(x, \u001b[38;5;28mslice\u001b[39m) \u001b[38;5;28;01mfor\u001b[39;00m x \u001b[38;5;129;01min\u001b[39;00m casted_key)\n\u001b[32m   3810\u001b[39m     ):\n\u001b[32m   3811\u001b[39m         \u001b[38;5;28;01mraise\u001b[39;00m InvalidIndexError(key)\n\u001b[32m-> \u001b[39m\u001b[32m3812\u001b[39m     \u001b[38;5;28;01mraise\u001b[39;00m \u001b[38;5;167;01mKeyError\u001b[39;00m(key) \u001b[38;5;28;01mfrom\u001b[39;00m\u001b[38;5;250m \u001b[39m\u001b[34;01merr\u001b[39;00m\n\u001b[32m   3813\u001b[39m \u001b[38;5;28;01mexcept\u001b[39;00m \u001b[38;5;167;01mTypeError\u001b[39;00m:\n\u001b[32m   3814\u001b[39m     \u001b[38;5;66;03m# If we have a listlike key, _check_indexing_error will raise\u001b[39;00m\n\u001b[32m   3815\u001b[39m     \u001b[38;5;66;03m#  InvalidIndexError. Otherwise we fall through and re-raise\u001b[39;00m\n\u001b[32m   3816\u001b[39m     \u001b[38;5;66;03m#  the TypeError.\u001b[39;00m\n\u001b[32m   3817\u001b[39m     \u001b[38;5;28mself\u001b[39m._check_indexing_error(key)\n",
      "\u001b[31mKeyError\u001b[39m: 'Drug'"
     ]
    }
   ],
   "source": [
    "######################################## Check Unique  Drug  Count in each dataset  ########################################\n",
    "print(f\"Number of Unique drug count in {dataset} train data is: =====>> {train_df[\"Drug\"].nunique()}\\n\")\n",
    "print(f\"Number of Unique drug count in {dataset} validation data is: =====>> {valid_df[\"Drug\"].nunique()}\\n\")\n",
    "print(f\"Number of Unique drug count in {dataset} test data is: =====>> {test_df[\"Drug\"].nunique()}\\n\")\n",
    "print(f\"Total number of Unique drug count in {dataset} data is: =====>> {main_df[\"Drug\"].nunique()}\\n\")"
   ]
  },
  {
   "cell_type": "code",
   "execution_count": null,
   "id": "74d14ead",
   "metadata": {},
   "outputs": [],
   "source": [
    "######################################## Compare Unique  Drug  Count Distribution  ########################################\n",
    "EDAVisualizer.compare_unique_smiles(\n",
    "    dfs=[train_df, valid_df, test_df],\n",
    "    df_names=['Train', 'Valid', 'Test'],\n",
    "    smiles_col='Drug'  \n",
    ")"
   ]
  },
  {
   "cell_type": "markdown",
   "id": "3cf9fd16",
   "metadata": {},
   "source": [
    "_____"
   ]
  },
  {
   "cell_type": "markdown",
   "id": "bb9fc17b",
   "metadata": {},
   "source": [
    "### 4. 🧮  Target Class Distribution in dataset ###\n",
    "\n",
    "Class imbalance is a common challenge in classification tasks. Plotting the distribution of the target labels helps us understand:\n",
    "- Whether the dataset is balanced\n",
    "- The dominant class (if any)\n",
    "- The need for resampling or weighted loss functions\n",
    "\n",
    "We use:\n",
    "```python\n",
    "EDAVisualizer.plot_label_distribution(df)\n"
   ]
  },
  {
   "cell_type": "code",
   "execution_count": null,
   "id": "a299299b",
   "metadata": {},
   "outputs": [],
   "source": [
    "########################################  Plot class distribution on Main Dataset ######################################## \n",
    "EDAVisualizer.plot_label_distribution(main_df, target_col='Y', title='Main - Target Mutagenicity Distribution')"
   ]
  },
  {
   "cell_type": "code",
   "execution_count": null,
   "id": "096a2bf5",
   "metadata": {},
   "outputs": [],
   "source": [
    "########################################  Plot class distribution Comparison between Split Dataset ######################################## \n",
    "EDAVisualizer.compare_label_distributions(\n",
    "    dfs=[train_df, valid_df, test_df], \n",
    "    df_names=['Train', 'Valid', 'Test'], \n",
    "    target_col='Y'\n",
    ")"
   ]
  },
  {
   "cell_type": "markdown",
   "id": "44790a2b",
   "metadata": {},
   "source": [
    "______"
   ]
  },
  {
   "cell_type": "markdown",
   "id": "42742f03",
   "metadata": {},
   "source": [
    "### 5. 📏 SMILES Length Analysis ###\n",
    "\n",
    "SMILES strings vary in length depending on the molecular complexity. Analyzing their length:\n",
    "- Highlights outliers or unusually long/short molecules\n",
    "- Informs sequence-based model designs (like RNNs, Transformers)\n",
    "\n",
    "To analyze the distribution:\n",
    "```python\n",
    "EDAVisualizer.check_smiles_length(loader=loader)\n"
   ]
  },
  {
   "cell_type": "code",
   "execution_count": null,
   "id": "55f39e81",
   "metadata": {},
   "outputs": [],
   "source": [
    "########################################  Check the SMILES Length Distribution of the Full Dataset ######################################## \n",
    "EDAVisualizer.check_smiles_length(loader=loader)"
   ]
  },
  {
   "cell_type": "code",
   "execution_count": null,
   "id": "8726d5f0",
   "metadata": {},
   "outputs": [],
   "source": [
    "########################################  Alternatively, Check the SMILES Length Distribution of the Selected/Multiple Dataset Splits ######################################## \n",
    "EDAVisualizer.check_smiles_length(dfs=[test_df], names=[\"Test\"])\n"
   ]
  },
  {
   "cell_type": "code",
   "execution_count": null,
   "id": "cf5d9b9a",
   "metadata": {},
   "outputs": [],
   "source": [
    "########################################  Compare the SMILES Length Distribution between Split Dataset ######################################## \n",
    "\n",
    "EDAVisualizer.compare_smiles_length(loader=loader)"
   ]
  },
  {
   "cell_type": "code",
   "execution_count": null,
   "id": "44ea5a10",
   "metadata": {},
   "outputs": [],
   "source": [
    "######################################## Alternatively, we can compare selected splits dataset by executing below ######################################## \n",
    "\n",
    "selected_dfs = [train_df, valid_df]\n",
    "dataset_names=['Train', 'Validation']\n",
    "\n",
    "\n",
    "EDAVisualizer.compare_smiles_length(selected_dfs, dataset_names)"
   ]
  },
  {
   "cell_type": "markdown",
   "id": "56277032",
   "metadata": {},
   "source": [
    "_____________"
   ]
  },
  {
   "cell_type": "markdown",
   "id": "f9aed2b1",
   "metadata": {},
   "source": [
    "### 5. ✔️ RDKit Molecular Validity Check ###\n",
    "\n",
    "Not all SMILES strings are guaranteed to represent valid molecules. Some may contain syntax errors or rare patterns RDKit cannot parse.\n",
    "\n",
    "This function evaluates validity by attempting to convert each SMILES to an RDKit Mol object:\n",
    "```python\n",
    "EDAVisualizer.check_molecular_validity(loader=loader)\n",
    "\n",
    "\n",
    "You can also pass a different column name if your SMILES column isn’t named Drug e.g:\n",
    "\n",
    "EDAVisualizer.check_molecular_validity(train_df, smiles_col='SMILES')"
   ]
  },
  {
   "cell_type": "code",
   "execution_count": null,
   "id": "92b75e6e",
   "metadata": {},
   "outputs": [],
   "source": [
    "######################################## Check Drug Molecular Validity ######################################## \n",
    "\n",
    "EDAVisualizer.check_molecular_validity(loader=loader)"
   ]
  },
  {
   "cell_type": "markdown",
   "id": "4969c25e",
   "metadata": {},
   "source": [
    "____________"
   ]
  },
  {
   "cell_type": "markdown",
   "id": "4bca3a24",
   "metadata": {},
   "source": [
    "### 6. 🧬 Molecular Descriptor Engineering ###\n",
    "Use RDKit to calculate standard drug-likeness properties for molecules — a key step in both Exploratory Data Analysis (EDA) and featurization.\n",
    "\n",
    "This function computes key cheminformatics descriptors from SMILES using RDKit:\n",
    "- Molecular weight (MW)\n",
    "- LogP (lipophilicity)\n",
    "- Topological Polar Surface Area (TPSA)\n",
    "- Hydrogen Bond Donors/Acceptors (HBD/HBA)\n",
    "- Rotatable bonds\n",
    "- Ring counts (total and aromatic)\n",
    "\n",
    "These descriptors provide chemical insights into your dataset during EDA (e.g., distribution of molecular weights) and also serve as informative features for downstream machine learning models.\n",
    "\n",
    "You can add descriptors to a dataset via:\n",
    "```python\n",
    "EDAVisualizer.add_molecular_descriptors(loader=loader)\n",
    "\n",
    "```\n",
    "You can also:\n",
    "\n",
    "🔹 Apply to Specific DataFrames:\n",
    "\n",
    "```python\n",
    "EDAVisualizer.add_molecular_descriptors(dfs=[train_df, test_df], names=[\"Train\", \"Test\"])\n",
    "```\n",
    "\n",
    "🔹 Apply to a single DataFrame:\n",
    "\n",
    "```python\n",
    "EDAVisualizer.add_molecular_descriptors(dfs=valid_df, names=[\"Validation\"])\n",
    "```\n",
    "\n",
    "🔹 Return new DataFrames:\n",
    "\n",
    "```python\n",
    "updated = EDAVisualizer.add_molecular_descriptors(dfs=[train_df], inplace=False)"
   ]
  },
  {
   "cell_type": "code",
   "execution_count": null,
   "id": "8799e4eb",
   "metadata": {},
   "outputs": [],
   "source": [
    "######################################## Add Molecular Descriptors ######################################## \n",
    "EDAVisualizer.add_molecular_descriptors(loader=loader)\n"
   ]
  },
  {
   "cell_type": "markdown",
   "id": "2c64f725",
   "metadata": {},
   "source": [
    "_____"
   ]
  },
  {
   "cell_type": "markdown",
   "id": "d34d1b2f",
   "metadata": {},
   "source": [
    "### 7. ✨ SMARTS Pattern Matching ###\n",
    "\n",
    "SMARTS patterns represent functional groups (e.g., nitro groups, amines, halogens). This module detects presence of such substructures and summarizes their occurrence by class.\n",
    "\n",
    "**Steps**:\n",
    "1. Use `SMARTSPatternAnalyzer().analyze(df)` to add SMARTS flags.\n",
    "2. Use `.summarize_patterns(df)` to compare frequency by label.\n",
    "\n",
    "Example:\n",
    "```python\n",
    "smarts_analyzer = SMARTSPatternAnalyzer()\n",
    "train_df = smarts_analyzer.analyze(train_df)\n",
    "smarts_analyzer.summarize_patterns(train_df)\n"
   ]
  },
  {
   "cell_type": "code",
   "execution_count": null,
   "id": "dc2b4434",
   "metadata": {},
   "outputs": [],
   "source": [
    "######################################## Initialize SMARTS Pattern Analyzer ######################################## \n",
    "analyzer = SMARTSPatternAnalyzer()"
   ]
  },
  {
   "cell_type": "code",
   "execution_count": null,
   "id": "0d2cbc9f",
   "metadata": {},
   "outputs": [],
   "source": [
    "######################################## Detect SMARTS Substructures in Main Dataset ######################################## \n",
    "\n",
    "data_with_flags = analyzer.analyze(main_df)"
   ]
  },
  {
   "cell_type": "code",
   "execution_count": null,
   "id": "14f48064",
   "metadata": {},
   "outputs": [],
   "source": [
    "########################################  Analyze SMARTS Substructures ######################################## \n",
    "\n",
    "analyzer.summarize_patterns(data_with_flags)"
   ]
  },
  {
   "cell_type": "markdown",
   "id": "f9e24311",
   "metadata": {},
   "source": [
    "__________"
   ]
  },
  {
   "cell_type": "markdown",
   "id": "d0cf8d79",
   "metadata": {},
   "source": [
    "### 8. 📈 Visualize correlation between features  ###"
   ]
  },
  {
   "cell_type": "markdown",
   "id": "14ae31f7",
   "metadata": {},
   "source": [
    "### Feature Correlation Heatmaps\n",
    "\n",
    "Correlation matrices help identify:\n",
    "- Redundant features\n",
    "- Feature interactions\n",
    "- Potential for multicollinearity\n",
    "\n",
    "We visualize correlations for numeric descriptors:\n",
    "```python\n",
    "EDAVisualizer.compare_correlation_heatmaps(\n",
    "    [main_df],\n",
    "    [\"Data\"],\n",
    "    cols=['MW', 'LogP', 'TPSA', 'HBD', 'HBA', 'RotBonds', 'RingCount', 'AromaticRings', 'Y']\n",
    ")\n",
    "```\n",
    "\n",
    "You can also visualize for multiple dataset by:\n",
    "```python\n",
    "EDAVisualizer.compare_correlation_heatmaps(\n",
    "    dfs=[train_df, valid_df, test_df],\n",
    "    df_names=[\"Train\", \"Validation\", \"Test\"],\n",
    "    cols=['MW', 'LogP', 'TPSA', 'HBD', 'HBA', 'RotBonds', 'RingCount', 'AromaticRings']\n",
    ")\n"
   ]
  },
  {
   "cell_type": "code",
   "execution_count": null,
   "id": "f39e17dc",
   "metadata": {},
   "outputs": [],
   "source": [
    "######################################## Show Correlation Heatmaps for Molecular Descriptors ######################################## \n",
    "\n",
    "EDAVisualizer.compare_correlation_heatmaps(\n",
    "    [main_df],\n",
    "    [\"Data\"],\n",
    "    cols=['MW', 'LogP', 'TPSA', 'HBD', 'HBA', 'RotBonds', 'RingCount', 'AromaticRings', 'Y']\n",
    ")\n"
   ]
  },
  {
   "cell_type": "code",
   "execution_count": null,
   "id": "b1e6a2f4",
   "metadata": {},
   "outputs": [],
   "source": [
    "######################################## Check Correlation Heatmaps across Splits ######################################## \n",
    "\n",
    "EDAVisualizer.compare_correlation_heatmaps(\n",
    "    [train_df, valid_df, test_df],\n",
    "    [\"Train\", \"Validation\", \"Test\"],\n",
    "    cols=['MW', 'LogP', 'TPSA', 'HBD', 'HBA', 'RotBonds', 'RingCount', 'AromaticRings', 'Y']\n",
    ")"
   ]
  },
  {
   "cell_type": "markdown",
   "id": "eafe0338",
   "metadata": {},
   "source": [
    "### Boxplot of Numeric Features Across Splits\n",
    "\n",
    "Boxplots give another visual cue on median, spread, and outliers per descriptor.\n",
    "\n",
    "Use:\n",
    "```python\n",
    "EDAVisualizer.compare_boxplots(\n",
    "    dfs=[train_df, valid_df, test_df],\n",
    "    df_names=['Train', 'Validation', 'Test'],\n",
    "    col='MW'\n",
    ")\n"
   ]
  },
  {
   "cell_type": "code",
   "execution_count": null,
   "id": "20d0f606",
   "metadata": {},
   "outputs": [],
   "source": [
    "######################################## Compare MW Boxplots ######################################## \n",
    "\n",
    "EDAVisualizer.compare_boxplots(\n",
    "    [train_df, valid_df, test_df],\n",
    "    [\"Train\", \"Validation\", \"Test\"],\n",
    "    col='MW'\n",
    ")"
   ]
  },
  {
   "cell_type": "markdown",
   "id": "ce0e9b9f",
   "metadata": {},
   "source": [
    "### Compare Feature Distributions (Histogram)\n",
    "\n",
    "Distribution shifts between train/test datasets can impact model generalization. Here, we compare numeric descriptor histograms.\n",
    "\n",
    "Example:\n",
    "```python\n",
    "EDAVisualizer.compare_numeric_distribution(\n",
    "    dfs=[train_df, test_df],\n",
    "    df_names=['Train', 'Test'],\n",
    "    col='MW'  # or LogP, TPSA, etc.\n",
    ")\n"
   ]
  },
  {
   "cell_type": "code",
   "execution_count": null,
   "id": "ef665709",
   "metadata": {},
   "outputs": [],
   "source": [
    "######################################## xxxxx ######################################## \n",
    "\n",
    "EDAVisualizer.compare_numeric_distribution(\n",
    "    [train_df, valid_df, test_df],\n",
    "    [\"Train\", \"Validation\", \"Test\"],\n",
    "    col='LogP'\n",
    ")"
   ]
  },
  {
   "cell_type": "markdown",
   "id": "6a808bca",
   "metadata": {},
   "source": [
    "_____________"
   ]
  },
  {
   "cell_type": "markdown",
   "id": "0d01b121",
   "metadata": {},
   "source": [
    "### 9. 🔍 Visual Inspection of Molecules ###\n",
    "\n",
    "Before building models, it’s helpful to get a “chemical feel” for the data by visualizing molecules per class.\n",
    "\n",
    "This function:\n",
    "- Randomly samples `n` molecules per class\n",
    "- Converts them to RDKit molecules\n",
    "- Displays them with grid labels\n",
    "\n",
    "Usage:\n",
    "```python\n",
    "EDAVisualizer.draw_samples_by_class(main_df, n=4)\n",
    "\n"
   ]
  },
  {
   "cell_type": "code",
   "execution_count": null,
   "id": "7de7651d",
   "metadata": {},
   "outputs": [],
   "source": [
    "######################################## Visualize \"n\" samples of molecules per class ########################################\n",
    "EDAVisualizer.draw_samples_by_class(main_df, n=5)"
   ]
  },
  {
   "cell_type": "code",
   "execution_count": null,
   "id": "adc577b5",
   "metadata": {},
   "outputs": [],
   "source": [
    "######################################## Draw Sample DRUG SMILE ########################################\n",
    "\n",
    "EDAVisualizer.draw_molecules([\n",
    "    \"CC(=O)OC1=CC=CC=C1C(=O)O\",  # Aspirin\n",
    "    \"CC(C)CC1=CC=C(C=C1)C(C)C(=O)O\"  # Ibuprofen\n",
    "])"
   ]
  },
  {
   "cell_type": "markdown",
   "id": "dae03ffc",
   "metadata": {},
   "source": [
    "________"
   ]
  }
 ],
 "metadata": {
  "kernelspec": {
   "display_name": ".venv",
   "language": "python",
   "name": "python3"
  },
  "language_info": {
   "codemirror_mode": {
    "name": "ipython",
    "version": 3
   },
   "file_extension": ".py",
   "mimetype": "text/x-python",
   "name": "python",
   "nbconvert_exporter": "python",
   "pygments_lexer": "ipython3",
   "version": "3.12.2"
  }
 },
 "nbformat": 4,
 "nbformat_minor": 5
}
